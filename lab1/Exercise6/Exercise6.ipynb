{
 "cells": [
  {
   "cell_type": "markdown",
   "metadata": {},
   "source": [
    "### LJ parameters"
   ]
  },
  {
   "cell_type": "markdown",
   "metadata": {},
   "source": [
    "#### 1. \n",
    "\n",
    "Source: https://github.com/SimonEnsemble/PorousMaterials.jl/blob/master/docs/src/force_field.md and https://lammpstube.com/wp-content/uploads/2019/10/UFF.pdf\n",
    "\n",
    "$\\varepsilon$ is in Kelvin instead of energy ($k_B = 1.380 649 \\cdot 10^{-23}$ J/K)\n",
    "\n",
    "Cu: $\\varepsilon = 2.51610$ K and $\\sigma = 3.11369 \\text{ \\AA}$\n",
    "\n",
    "Au $\\varepsilon = 19.62557$ K, $\\sigma = 2.93373  \\text{ \\AA}$"
   ]
  },
  {
   "cell_type": "code",
   "execution_count": 1,
   "metadata": {},
   "outputs": [],
   "source": [
    "import numpy as np "
   ]
  },
  {
   "cell_type": "code",
   "execution_count": 8,
   "metadata": {},
   "outputs": [
    {
     "name": "stdout",
     "output_type": "stream",
     "text": [
      "eps_Cu = 0.00021682072220883484 eV\n",
      "eps_Au = 0.0016912007714955856 eV\n",
      "sigma_Cu = 3.11369 A\n",
      "sigma_Au = 2.93373 A\n",
      "eps_CuAu = 0.0006055471680024699 eV\n",
      "sigma_CuAu = 3.022370884537502 A\n"
     ]
    }
   ],
   "source": [
    "eps_Cu = 2.51610\n",
    "eps_Au = 19.62557\n",
    "\n",
    "# Conversion factors\n",
    "k_B = 1.380649e-23\n",
    "eV = 1.602176634e-19\n",
    "conv = k_B / eV\n",
    "\n",
    "eps_Cu = eps_Cu * conv\n",
    "eps_Au = eps_Au * conv\n",
    "\n",
    "sigma_Cu = 3.11369\n",
    "sigma_Au = 2.93373\n",
    "\n",
    "eps_CuAu = np.sqrt(eps_Cu * eps_Au)\n",
    "sigma_CuAu = np.sqrt(sigma_Cu * sigma_Au)\n",
    "\n",
    "print(f\"eps_Cu = {eps_Cu} eV\")\n",
    "print(f\"eps_Au = {eps_Au} eV\")\n",
    "print(f\"sigma_Cu = {sigma_Cu} A\")\n",
    "print(f\"sigma_Au = {sigma_Au} A\")\n",
    "print(f\"eps_CuAu = {eps_CuAu} eV\")\n",
    "print(f\"sigma_CuAu = {sigma_CuAu} A\")"
   ]
  },
  {
   "cell_type": "markdown",
   "metadata": {},
   "source": [
    "#### 2. \n",
    "\n",
    "Source: Heinz et al. Accurate Simulation of Surfaces and Interfaces of Face-Centered Cubic Metals Using 12-6 and 9-6 Lennard-Jones Potentials\n",
    "\n",
    "$$V(r) = Ar^{-12} - Br^{-6}$$\n",
    "\n",
    "- $A_{\\rm Au} =  4\\varepsilon\\sigma^{12} = 2307000$ $\\rm kcal\\cdot \\AA^{12} /mol$ \n",
    "- $B_{\\rm Au} := 4\\varepsilon\\sigma^6  = 6987$  $\\rm kcal\\cdot \\AA^{6} /mol$\n",
    "- $A_{\\rm Cu} =  4\\varepsilon\\sigma^{12} = 484800$ $\\rm kcal\\cdot \\AA^{12} /mol$ \n",
    "- $B_{\\rm Cu} := 4\\varepsilon\\sigma^6  = 3026$  $\\rm kcal\\cdot \\AA^{6} /mol$"
   ]
  },
  {
   "cell_type": "code",
   "execution_count": null,
   "metadata": {},
   "outputs": [
    {
     "name": "stdout",
     "output_type": "stream",
     "text": [
      "Conversion factor = 0.043364104241800934\n",
      "\n",
      "Parameters for Au-Au and Cu-Cu interactions:\n",
      "eps_Cu = 0.20476023750639274 eV\n",
      "eps_Au = 0.22940574007475698 eV\n",
      "sigma_Cu = 2.3304991448639614 A\n",
      "sigma_Au = 2.629013453555011 A\n",
      "\n",
      "Parameters for Cu-Au interaction:\n",
      "eps_CuAu = 0.21673 eV\n",
      "sigma_CuAu = 2.47526 A\n"
     ]
    },
    {
     "ename": "",
     "evalue": "",
     "output_type": "error",
     "traceback": [
      "\u001b[1;31mThe Kernel crashed while executing code in the current cell or a previous cell. \n",
      "\u001b[1;31mPlease review the code in the cell(s) to identify a possible cause of the failure. \n",
      "\u001b[1;31mClick <a href='https://aka.ms/vscodeJupyterKernelCrash'>here</a> for more info. \n",
      "\u001b[1;31mView Jupyter <a href='command:jupyter.viewOutput'>log</a> for further details."
     ]
    }
   ],
   "source": [
    "mol = 6.02214076e23\n",
    "kcal = 4184\n",
    "\n",
    "conv = kcal / (mol * eV) \n",
    "print(f\"Conversion factor = {conv}\\n\")\n",
    "\n",
    "A_Au = 2307000\n",
    "A_Cu = 484800 \n",
    "B_Au = 6987\n",
    "B_Cu = 3026\n",
    "\n",
    "sigma_Au = (A_Au / B_Au)**(1/6)\n",
    "sigma_Cu = (A_Cu / B_Cu)**(1/6)\n",
    "eps_Au = A_Au / (4*sigma_Au**12) * conv\n",
    "eps_Cu = A_Cu / (4*sigma_Cu**12) * conv\n",
    "\n",
    "print(f\"Parameters for Au-Au and Cu-Cu interactions:\")\n",
    "print(f\"eps_Cu = {eps_Cu} eV\")\n",
    "print(f\"eps_Au = {eps_Au} eV\")\n",
    "print(f\"sigma_Cu = {sigma_Cu} A\")\n",
    "print(f\"sigma_Au = {sigma_Au} A\\n\")\n",
    "\n",
    "sigma_CuAu = np.sqrt(sigma_Cu * sigma_Au)   \n",
    "eps_CuAu = np.sqrt(eps_Cu * eps_Au)\n",
    "\n",
    "print(f\"Parameters for Cu-Au interaction:\")\n",
    "print(f\"eps_CuAu = {eps_CuAu:.5f} eV\")\n",
    "print(f\"sigma_CuAu = {sigma_CuAu:.5f} A\")"
   ]
  }
 ],
 "metadata": {
  "kernelspec": {
   "display_name": "mse468",
   "language": "python",
   "name": "python3"
  },
  "language_info": {
   "codemirror_mode": {
    "name": "ipython",
    "version": 3
   },
   "file_extension": ".py",
   "mimetype": "text/x-python",
   "name": "python",
   "nbconvert_exporter": "python",
   "pygments_lexer": "ipython3",
   "version": "3.10.16"
  }
 },
 "nbformat": 4,
 "nbformat_minor": 2
}
