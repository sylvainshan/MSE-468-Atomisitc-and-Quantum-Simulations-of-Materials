{
 "cells": [
  {
   "cell_type": "markdown",
   "id": "22de0b4f",
   "metadata": {},
   "source": [
    "# Phase Stability and Magnetism in Cobalt\n",
    "\n",
    "Our goal is to find the *correct geometric and magnetic ground state of Cobalt*. \n",
    "\n",
    "We use PBE-GGA exchange correlation functional. "
   ]
  },
  {
   "cell_type": "markdown",
   "id": "3542f126",
   "metadata": {},
   "source": [
    "## Comparing ferromagnetic FCC and HCP Cobalt\n",
    "\n",
    "Simulation parameters: \n",
    "- Use $a=3.54\\AA$ for FCC \n",
    "- Use $a=2.50\\AA$ and $c=4.06\\AA$ for HCP \n",
    "- `ecutwfc = 45`\n",
    "- `ecutrho = 360`\n",
    "- `occupations = 'smearing'`: this turns the *smearing* on. This corresponds to a fictitious temperature used to reduce discrepancies of computations that use Brillouin zone integration. Since Co is a metal, the fermi level falls on a point where the DoS is finite. There is a discontinuity.\n",
    "- `smearing = 'm-v'`: Marzari-Vanderbilt type of smearing\n",
    "- `degauss = 0.01` [Ry]: define the amount of smoothing (spread of the smearing function)\n",
    "- `nspin=2`: spin-polarization of the system (for magnetic system=2)\n",
    "- `starting_magnetization(1)=...`: put the system in an initial magnetic state"
   ]
  },
  {
   "cell_type": "markdown",
   "id": "20c1002e",
   "metadata": {},
   "source": [
    "Citation for lattice parameters: \n",
    "```json \n",
    "@article{Nishizawa1983,\n",
    "  author    = {Nishizawa, T. and Ishida, K.},\n",
    "  title     = {The Co (Cobalt) system},\n",
    "  journal   = {Bulletin of Alloy Phase Diagrams},\n",
    "  volume    = {4},\n",
    "  number    = {4},\n",
    "  pages     = {387--390},\n",
    "  year      = {1983},\n",
    "  doi       = {10.1007/BF02868089},\n",
    "  url       = {https://doi.org/10.1007/BF02868089},\n",
    "  issn      = {0197-0216}\n",
    "}\n",
    "```\n",
    "\n",
    "\n",
    "Citation for Marzari-Vanderbilt: \n",
    "```json\n",
    "@article{PhysRevLett.82.3296,\n",
    "  title = {Thermal Contraction and Disordering of the Al(110) Surface},\n",
    "  author = {Marzari, Nicola and Vanderbilt, David and De Vita, Alessandro and Payne, M. C.},\n",
    "  journal = {Phys. Rev. Lett.},\n",
    "  volume = {82},\n",
    "  issue = {16},\n",
    "  pages = {3296--3299},\n",
    "  numpages = {0},\n",
    "  year = {1999},\n",
    "  month = {Apr},\n",
    "  publisher = {American Physical Society},\n",
    "  doi = {10.1103/PhysRevLett.82.3296},\n",
    "  url = {https://link.aps.org/doi/10.1103/PhysRevLett.82.3296}\n",
    "}\n",
    "```\n",
    "\n",
    "Citation for details on smearing and $k$ point integration: \n",
    "```json\n",
    "@misc{nascimento2025accurateefficientprotocolshighthroughput,\n",
    "      title={Accurate and efficient protocols for high-throughput first-principles materials simulations}, \n",
    "      author={Gabriel de Miranda Nascimento and Flaviano José dos Santos and Marnik Bercx and Davide Grassano and Giovanni Pizzi and Nicola Marzari},\n",
    "      year={2025},\n",
    "      eprint={2504.03962},\n",
    "      archivePrefix={arXiv},\n",
    "      primaryClass={cond-mat.mtrl-sci},\n",
    "      url={https://arxiv.org/abs/2504.03962}, \n",
    "}\n",
    "```"
   ]
  },
  {
   "cell_type": "code",
   "execution_count": 5,
   "id": "d58b543f",
   "metadata": {},
   "outputs": [
    {
     "name": "stdout",
     "output_type": "stream",
     "text": [
      "a_fcc =  6.68963048571355  Bohr\n",
      "a_hcp =  4.724315314769456  Bohr\n",
      "c_hcp =  7.672288071185595  Bohr\n"
     ]
    }
   ],
   "source": [
    "BOHR = 0.529177210544  # Bohr radius in Angstroms\n",
    "RY = 13.605693122990   # Rydberg energy in eV\n",
    "\n",
    "a_fcc = 3.54  # Ang\n",
    "a_hcp = 2.50  # Ang\n",
    "c_hcp = 4.06  # Ang\n",
    "\n",
    "a_fcc_input = a_fcc / BOHR\n",
    "a_hcp_input = a_hcp / BOHR\n",
    "c_hcp_input = c_hcp / BOHR\n",
    "\n",
    "print(\"a_fcc = \", a_fcc_input, \" Bohr\")\n",
    "print(\"a_hcp = \", a_hcp_input, \" Bohr\")\n",
    "print(\"c_hcp = \", c_hcp_input, \" Bohr\")"
   ]
  },
  {
   "cell_type": "markdown",
   "id": "db2ebcba",
   "metadata": {},
   "source": [
    "**Task**: *Based on the description of the ibrav input, determine the correct ibrav for the FCC and HCP structures.*\n",
    "\n",
    "- FCC: ibrav(2)\n",
    "- HCP: ibrav(4) "
   ]
  },
  {
   "cell_type": "markdown",
   "id": "999acaa0",
   "metadata": {},
   "source": [
    "**Task**: *For both cases you need to enter a value for celldm(1) (Important: in a.u.). For the hexagonal case you must enter a value for celldm(3), this value is defined as $c/a$ and is therefore unitless, where $a$ is celldm(1) and $c$ is the length of the cell in the third dimension.*"
   ]
  },
  {
   "cell_type": "code",
   "execution_count": 4,
   "id": "e002fdcd",
   "metadata": {},
   "outputs": [
    {
     "name": "stdout",
     "output_type": "stream",
     "text": [
      "celldm(3) = c_hcp/a_hcp =  1.6239999999999999\n"
     ]
    }
   ],
   "source": [
    "print(\"celldm(3) = c_hcp/a_hcp = \", c_hcp_input / a_hcp_input)"
   ]
  },
  {
   "cell_type": "markdown",
   "id": "3eafa443",
   "metadata": {},
   "source": [
    "**Task**: *To define the magnetic configuration, we still need to set the value of the starting magnetization input. For ferromagnetic FCC (in directory Co fcc-fm), start with the largest absolute value possible, and search for magnetization in the output file using grep. Do you think we can reduce the value further? Find a value that you think will get you the correct ferromagnetic ground state, and use it to set the magnetization for the other magnetic configurations.*\n",
    "\n",
    "- Start with `starting_magnetization(1)=1`\n",
    "- Result: `starting_magnetization(1)=0.1` leads to the correct ferromagnetic ground state. A value lower than that leads to a non magnetic state. "
   ]
  },
  {
   "cell_type": "code",
   "execution_count": null,
   "id": "4abc7800",
   "metadata": {},
   "outputs": [],
   "source": [
    "import matplotlib.pyplot as plt\n",
    "import numpy as np"
   ]
  },
  {
   "cell_type": "code",
   "execution_count": 26,
   "id": "f3c655c1",
   "metadata": {},
   "outputs": [
    {
     "data": {
      "image/png": "[encoded data removed]",
      "text/plain": [
       "<Figure size 800x300 with 3 Axes>"
      ]
     },
     "metadata": {},
     "output_type": "display_data"
    }
   ],
   "source": [
    "starting_magnetization = [1.0, 0.9, 0.8, \n",
    "                          0.7, 0.6, 0.5, \n",
    "                          0.4, 0.3, 0.2, \n",
    "                          0.1, 0.0, 0.02, \n",
    "                          0.04, 0.06, 0.08]\n",
    "\n",
    "total_magnetization = [1.72, 1.72, 1.72, \n",
    "                       1.72, 1.72, 1.72, \n",
    "                       1.72, 1.72, 1.72, \n",
    "                       1.72, 0.00, 0.02,\n",
    "                       -0.01, 0.02, 0.03]\n",
    "\n",
    "absolute_magnetization = [1.90, 1.90, 1.90, \n",
    "                          1.90, 1.90, 1.90, \n",
    "                          1.90, 1.90, 1.90, \n",
    "                          1.90, 0.00, 0.03,\n",
    "                          0.01, 0.02, 0.03]\n",
    "\n",
    "total_energy = [-298.48807788, -298.48807788, -298.48807788, \n",
    "                -298.48807788, -298.48807788, -298.48807788, \n",
    "                -298.48807788, -298.48807788, -298.48807788, \n",
    "                -298.48807788, -298.46847745, -298.46847762,\n",
    "                -298.46847747, -298.46847759, -298.46847765]\n",
    "\n",
    "fig, ax = plt.subplots(1, 3, figsize=(8, 3))\n",
    "ax[0].plot(starting_magnetization, total_magnetization, 'bo')\n",
    "ax[0].set_xlabel('Starting magnetization')\n",
    "ax[0].set_ylabel('Total magnetization')\n",
    "ax[1].plot(starting_magnetization, absolute_magnetization, 'rx')\n",
    "ax[1].set_xlabel('Starting magnetization')\n",
    "ax[1].set_ylabel('Absolute magnetization')\n",
    "ax[2].plot(starting_magnetization, total_energy, 'g+')\n",
    "ax[2].set_xlabel('Starting magnetization')\n",
    "ax[2].set_ylabel('Total energy [Ry]')\n",
    "plt.tight_layout()\n",
    "plt.show()"
   ]
  },
  {
   "cell_type": "markdown",
   "id": "4180976d",
   "metadata": {},
   "source": [
    "**Task**: *Have a look at the k-points meshes defined in the K POINTS card. Compare the mesh for the FCC and HCP structure; do the provided values make sense? Why? Are the K-meshes for HCP and FCC the same apart from folding, or do they have approximately the same density but not the same grid? How does this reflect on the convergence of your energy difference results?*\n",
    "\n",
    "\n",
    "**FCC**: \n",
    "- $k$-mesh: automatic `12 12 12 0 0 0`\n",
    "- number of $k$ points in output: 72\n",
    "- \n",
    "\n",
    "**HCP**:\n",
    "- $k$-mesh: automatic `12 12 6  0 0 0`\n",
    "- number of $k$ points in output: 76"
   ]
  },
  {
   "cell_type": "markdown",
   "id": "fc07ef37",
   "metadata": {},
   "source": [
    "**Task**: *Using PWscf, compute the energies for both HCP and FCC Co at the experimental lattice parameters by completing the input files in the Co fcc-fm and Co hcp-fm directories. Assume a ferromagnetic ordering for the two structures. Comment on the relative stability of the two phases. **Hint**: In comparing energies of different configurations, remember that the total energy is an extensive quantity!*"
   ]
  },
  {
   "cell_type": "markdown",
   "id": "0b2e5ab3",
   "metadata": {},
   "source": [
    "## Magnetic configurations in HCP Cobalt"
   ]
  },
  {
   "cell_type": "markdown",
   "id": "7d021856",
   "metadata": {},
   "source": [
    "**Task**: *Perform a stability analysis for HCP cobalt in the ferromagnetic, antiferromagnetic, and nonmagnetic states, comparing their energies (per atom)*"
   ]
  },
  {
   "cell_type": "code",
   "execution_count": null,
   "id": "97f2faea",
   "metadata": {},
   "outputs": [],
   "source": []
  },
  {
   "cell_type": "markdown",
   "id": "9a89bb84",
   "metadata": {},
   "source": [
    "**Task**: *For the FM and NM states, perform a non-self consistent calculation on a finer grid and compute the density of states. Do you see differences, and can you explain them? Try reverting the HCP FM starting magnetization and see how the DOS is affected. Do the changes make sense? Finally, is the material metallic in the FM, NM states, or both?*"
   ]
  },
  {
   "cell_type": "code",
   "execution_count": null,
   "id": "1d78ba54",
   "metadata": {},
   "outputs": [],
   "source": []
  }
 ],
 "metadata": {
  "kernelspec": {
   "display_name": "mse468",
   "language": "python",
   "name": "python3"
  },
  "language_info": {
   "codemirror_mode": {
    "name": "ipython",
    "version": 3
   },
   "file_extension": ".py",
   "mimetype": "text/x-python",
   "name": "python",
   "nbconvert_exporter": "python",
   "pygments_lexer": "ipython3",
   "version": "3.10.16"
  }
 },
 "nbformat": 4,
 "nbformat_minor": 5
}
