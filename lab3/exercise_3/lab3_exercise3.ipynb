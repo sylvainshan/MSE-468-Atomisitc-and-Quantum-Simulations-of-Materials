{
 "cells": [
  {
   "cell_type": "markdown",
   "id": "22de0b4f",
   "metadata": {},
   "source": [
    "# Phase Stability and Magnetism in Cobalt\n",
    "\n",
    "Our goal is to find the *correct geometric and magnetic ground state of Cobalt*. \n",
    "\n",
    "We use PBE-GGA exchange correlation functional. "
   ]
  },
  {
   "cell_type": "markdown",
   "id": "3542f126",
   "metadata": {},
   "source": [
    "## Comparing ferromagnetic FCC and HCP Cobalt\n",
    "\n",
    "Simulation parameters: \n",
    "- Use $a=3.54\\AA$ for FCC \n",
    "- Use $a=2.50\\AA$ and $c=4.06\\AA$ for HCP \n",
    "- `ecutwfc = 45`\n",
    "- `ecutrho = 360`\n",
    "- `occupations = 'smearing'`: this turns the *smearing* on. This corresponds to a fictitious temperature used to reduce discrepancies of computations that use Brillouin zone integration. Since Co is a metal, the fermi level falls on a point where the DoS is finite. There is a discontinuity.\n",
    "- `smearing = 'm-v'`: Marzari-Vanderbilt type of smearing\n",
    "- `degauss = 0.01` [Ry]: define the amount of smoothing (spread of the smearing function)\n",
    "- `nspin=2`: spin-polarization of the system (for magnetic system=2)\n",
    "- `starting_magnetization(1)=...`: put the system in an initial magnetic state"
   ]
  },
  {
   "cell_type": "markdown",
   "id": "20c1002e",
   "metadata": {},
   "source": [
    "Citation for lattice parameters: \n",
    "```json \n",
    "@article{Nishizawa1983,\n",
    "  author    = {Nishizawa, T. and Ishida, K.},\n",
    "  title     = {The Co (Cobalt) system},\n",
    "  journal   = {Bulletin of Alloy Phase Diagrams},\n",
    "  volume    = {4},\n",
    "  number    = {4},\n",
    "  pages     = {387--390},\n",
    "  year      = {1983},\n",
    "  doi       = {10.1007/BF02868089},\n",
    "  url       = {https://doi.org/10.1007/BF02868089},\n",
    "  issn      = {0197-0216}\n",
    "}\n",
    "```\n",
    "\n",
    "\n",
    "Citation for Marzari-Vanderbilt: \n",
    "```json\n",
    "@article{PhysRevLett.82.3296,\n",
    "  title = {Thermal Contraction and Disordering of the Al(110) Surface},\n",
    "  author = {Marzari, Nicola and Vanderbilt, David and De Vita, Alessandro and Payne, M. C.},\n",
    "  journal = {Phys. Rev. Lett.},\n",
    "  volume = {82},\n",
    "  issue = {16},\n",
    "  pages = {3296--3299},\n",
    "  numpages = {0},\n",
    "  year = {1999},\n",
    "  month = {Apr},\n",
    "  publisher = {American Physical Society},\n",
    "  doi = {10.1103/PhysRevLett.82.3296},\n",
    "  url = {https://link.aps.org/doi/10.1103/PhysRevLett.82.3296}\n",
    "}\n",
    "```\n",
    "\n",
    "Citation for details on smearing and $k$ point integration: \n",
    "```json\n",
    "@misc{nascimento2025accurateefficientprotocolshighthroughput,\n",
    "      title={Accurate and efficient protocols for high-throughput first-principles materials simulations}, \n",
    "      author={Gabriel de Miranda Nascimento and Flaviano José dos Santos and Marnik Bercx and Davide Grassano and Giovanni Pizzi and Nicola Marzari},\n",
    "      year={2025},\n",
    "      eprint={2504.03962},\n",
    "      archivePrefix={arXiv},\n",
    "      primaryClass={cond-mat.mtrl-sci},\n",
    "      url={https://arxiv.org/abs/2504.03962}, \n",
    "}\n",
    "```"
   ]
  },
  {
   "cell_type": "code",
   "execution_count": 5,
   "id": "d58b543f",
   "metadata": {},
   "outputs": [
    {
     "name": "stdout",
     "output_type": "stream",
     "text": [
      "a_fcc =  6.68963048571355  Bohr\n",
      "a_hcp =  4.724315314769456  Bohr\n",
      "c_hcp =  7.672288071185595  Bohr\n"
     ]
    }
   ],
   "source": [
    "BOHR = 0.529177210544  # Bohr radius in Angstroms\n",
    "RY = 13.605693122990   # Rydberg energy in eV\n",
    "\n",
    "a_fcc = 3.54  # Ang\n",
    "a_hcp = 2.50  # Ang\n",
    "c_hcp = 4.06  # Ang\n",
    "\n",
    "a_fcc_input = a_fcc / BOHR\n",
    "a_hcp_input = a_hcp / BOHR\n",
    "c_hcp_input = c_hcp / BOHR\n",
    "\n",
    "print(\"a_fcc = \", a_fcc_input, \" Bohr\")\n",
    "print(\"a_hcp = \", a_hcp_input, \" Bohr\")\n",
    "print(\"c_hcp = \", c_hcp_input, \" Bohr\")"
   ]
  },
  {
   "cell_type": "markdown",
   "id": "db2ebcba",
   "metadata": {},
   "source": [
    "**Task**: *Based on the description of the ibrav input, determine the correct ibrav for the FCC and HCP structures.*\n",
    "\n",
    "- FCC: ibrav(2)\n",
    "- HCP: ibrav(4) "
   ]
  },
  {
   "cell_type": "markdown",
   "id": "999acaa0",
   "metadata": {},
   "source": [
    "**Task**: *For both cases you need to enter a value for celldm(1) (Important: in a.u.). For the hexagonal case you must enter a value for celldm(3), this value is defined as $c/a$ and is therefore unitless, where $a$ is celldm(1) and $c$ is the length of the cell in the third dimension.*"
   ]
  },
  {
   "cell_type": "code",
   "execution_count": 4,
   "id": "e002fdcd",
   "metadata": {},
   "outputs": [
    {
     "name": "stdout",
     "output_type": "stream",
     "text": [
      "celldm(3) = c_hcp/a_hcp =  1.6239999999999999\n"
     ]
    }
   ],
   "source": [
    "print(\"celldm(3) = c_hcp/a_hcp = \", c_hcp_input / a_hcp_input)"
   ]
  },
  {
   "cell_type": "markdown",
   "id": "3eafa443",
   "metadata": {},
   "source": [
    "**Task**: *To define the magnetic configuration, we still need to set the value of the starting magnetization input. For ferromagnetic FCC (in directory Co fcc-fm), start with the largest absolute value possible, and search for magnetization in the output file using grep. Do you think we can reduce the value further? Find a value that you think will get you the correct ferromagnetic ground state, and use it to set the magnetization for the other magnetic configurations.*\n",
    "\n",
    "- Start with `starting_magnetization(1)=1`\n",
    "- Result: `starting_magnetization(1)=0.1` leads to the correct ferromagnetic ground state. A value lower than that leads to a non magnetic state. "
   ]
  },
  {
   "cell_type": "code",
   "execution_count": null,
   "id": "4abc7800",
   "metadata": {},
   "outputs": [],
   "source": [
    "import matplotlib.pyplot as plt\n",
    "import numpy as np"
   ]
  },
  {
   "cell_type": "code",
   "execution_count": 26,
   "id": "f3c655c1",
   "metadata": {},
   "outputs": [
    {
     "data": {
      "image/png": "[encoded data removed]",
      "text/plain": [
       "<Figure size 800x300 with 3 Axes>"
      ]
     },
     "metadata": {},
     "output_type": "display_data"
    }
   ],
   "source": [
    "starting_magnetization = [1.0, 0.9, 0.8, \n",
    "                          0.7, 0.6, 0.5, \n",
    "                          0.4, 0.3, 0.2, \n",
    "                          0.1, 0.0, 0.02, \n",
    "                          0.04, 0.06, 0.08]\n",
    "\n",
    "total_magnetization = [1.72, 1.72, 1.72, \n",
    "                       1.72, 1.72, 1.72, \n",
    "                       1.72, 1.72, 1.72, \n",
    "                       1.72, 0.00, 0.02,\n",
    "                       -0.01, 0.02, 0.03]\n",
    "\n",
    "absolute_magnetization = [1.90, 1.90, 1.90, \n",
    "                          1.90, 1.90, 1.90, \n",
    "                          1.90, 1.90, 1.90, \n",
    "                          1.90, 0.00, 0.03,\n",
    "                          0.01, 0.02, 0.03]\n",
    "\n",
    "total_energy = [-298.48807788, -298.48807788, -298.48807788, \n",
    "                -298.48807788, -298.48807788, -298.48807788, \n",
    "                -298.48807788, -298.48807788, -298.48807788, \n",
    "                -298.48807788, -298.46847745, -298.46847762,\n",
    "                -298.46847747, -298.46847759, -298.46847765]\n",
    "\n",
    "fig, ax = plt.subplots(1, 3, figsize=(8, 3))\n",
    "ax[0].plot(starting_magnetization, total_magnetization, 'bo')\n",
    "ax[0].set_xlabel('Starting magnetization')\n",
    "ax[0].set_ylabel('Total magnetization')\n",
    "ax[1].plot(starting_magnetization, absolute_magnetization, 'rx')\n",
    "ax[1].set_xlabel('Starting magnetization')\n",
    "ax[1].set_ylabel('Absolute magnetization')\n",
    "ax[2].plot(starting_magnetization, total_energy, 'g+')\n",
    "ax[2].set_xlabel('Starting magnetization')\n",
    "ax[2].set_ylabel('Total energy [Ry]')\n",
    "plt.tight_layout()\n",
    "plt.show()"
   ]
  },
  {
   "cell_type": "markdown",
   "id": "4180976d",
   "metadata": {},
   "source": [
    "**Task**: *Have a look at the k-points meshes defined in the K POINTS card. Compare the mesh for the FCC and HCP structure; do the provided values make sense? Why? Are the K-meshes for HCP and FCC the same apart from folding, or do they have approximately the same density but not the same grid? How does this reflect on the convergence of your energy difference results?*\n",
    "\n",
    "--- \n",
    "\n",
    "The k-point meshes have approximately the same density but differ in their specific grid shapes, which is expected due to the different symmetries of the lattices: FCC is isotropic while HCP is anisotropic (see details below).\n",
    "\n",
    "Although the meshes are not identical, their similar k-point densities help ensure that total energies are sampled with comparable precision. This is important because a large mismatch in k-point density between the two structures could introduce a bias in the computed energy difference. By keeping the sampling densities similar, we ensure a consistent and reliable comparison between the total energies of FCC and HCP, which is crucial for the convergence of the energy difference.\n",
    "\n",
    "--- \n",
    "\n",
    "First start by giving the shape of both crystals BZs. \n",
    "\n",
    "In reciprocal space, the Brillouin zone of the 2 crystals differ. The FCC lattice is isotropic whereas the HCP is not. We can compute the sampling density of both structures analytically\n",
    "$$\n",
    "\\rho_{i} = V_{BZ, i}/n_{k,i} ,\\quad i\\in \\{\\text{FCC, HCP}\\},\n",
    "$$\n",
    "and then compare the result.\n",
    "\n",
    "**FCC**: \n",
    "- ibrav = 2 \n",
    "- $k$-mesh: automatic `12 12 12 0 0 0`\n",
    "- number of symmetrized $k$ points in output: 72\n",
    "- Dense  grid: 8657 G-vectors FFT dimensions: (30, 30, 30)\n",
    "- Smooth grid: 3119 G-vectors FFT dimensions: (24, 24, 24)\n",
    "\n",
    "**HCP**:\n",
    "- ibrav = 4\n",
    "- $k$-mesh: automatic `12 12 6  0 0 0`\n",
    "- number of symmetrized $k$ points in output: 76\n",
    "- Dense  grid: 17141 G-vectors FFT dimensions: (30, 30, 48)\n",
    "- Smooth grid: 6027 G-vectors FFT dimensions: (24, 24, 36)"
   ]
  },
  {
   "cell_type": "markdown",
   "id": "fc07ef37",
   "metadata": {},
   "source": [
    "**Task**: *Using PWscf, compute the energies for both HCP and FCC Co at the experimental lattice parameters by completing the input files in the Co fcc-fm and Co hcp-fm directories. Assume a ferromagnetic ordering for the two structures. Comment on the relative stability of the two phases. **Hint**: In comparing energies of different configurations, remember that the total energy is an extensive quantity!*\n",
    "\n",
    "In Quantum Espresso, the number of atoms per cell for a HCP lattice is 2 while there is a single atom per cell for FCC. So, here we compare the two configurations by considering the energy per atom instead of the total cell energy. \n",
    "\n",
    "We find that $E_{fcc}-E_{hcp}\\approx 21$ mRy meaning that the HCP configuration is more stable. \n",
    "\n",
    "Regarding magnetic properties, both structures have a similar total magnetization per atom $\\approx 1.72 \\mu_B$ indicating comparable ferromagnetic behavior. "
   ]
  },
  {
   "cell_type": "code",
   "execution_count": 36,
   "id": "14ac90d6",
   "metadata": {},
   "outputs": [
    {
     "name": "stdout",
     "output_type": "stream",
     "text": [
      "E_hcp_per_atom =  -298.489174275  Ry\n",
      "E_fcc_per_atom =  -298.46847765  Ry\n",
      "Delta E = 0.0207 Ry\n",
      "\n",
      "Total magnetization HCP = 3.43 Bohr mag / cell\n",
      "Total magnetization FCC = 1.72 Bohr mag / cell\n",
      "Total magnetization per atom HCP = 1.715 Bohr mag / atom\n",
      "Total magnetization per atom FCC = 1.720 Bohr mag / atom\n"
     ]
    }
   ],
   "source": [
    "n_hcp = 2 # Number of atoms in HCP cell (see QE out file)\n",
    "n_fcc = 1 # Number of atoms in FCC cell\n",
    "\n",
    "E_hcp = -596.97834855 # Total energy of HCP unit cell\n",
    "E_fcc = -298.46847765 # Total energy of FCC unit cell\n",
    "\n",
    "total_mag_hcp = 3.43    # Bohr mag / cell\n",
    "absolute_mag_hcp = 3.78 # Bohr mag / cell\n",
    "\n",
    "total_mag_fcc = 1.72    # Bohr mag / cell\n",
    "absolute_mag_fcc = 1.90 # Bohr mag / cell\n",
    "\n",
    "E_hcp_per_atom = E_hcp / n_hcp\n",
    "E_fcc_per_atom = E_fcc / n_fcc\n",
    "\n",
    "print(\"E_hcp_per_atom = \", E_hcp_per_atom, \" Ry\")\n",
    "print(\"E_fcc_per_atom = \", E_fcc_per_atom, \" Ry\")\n",
    "print(f\"Delta E = {E_fcc_per_atom - E_hcp_per_atom:.4f} Ry\\n\")\n",
    "print(f\"Total magnetization HCP = {total_mag_hcp:.2f} Bohr mag / cell\")\n",
    "print(f\"Total magnetization FCC = {total_mag_fcc:.2f} Bohr mag / cell\")\n",
    "print(f\"Total magnetization per atom HCP = {total_mag_hcp/n_hcp:.3f} Bohr mag / atom\")\n",
    "print(f\"Total magnetization per atom FCC = {total_mag_fcc/n_fcc:.3f} Bohr mag / atom\")"
   ]
  },
  {
   "cell_type": "markdown",
   "id": "0b2e5ab3",
   "metadata": {},
   "source": [
    "## Magnetic configurations in HCP Cobalt"
   ]
  },
  {
   "cell_type": "markdown",
   "id": "7d021856",
   "metadata": {},
   "source": [
    "**Task**: *Perform a stability analysis for HCP cobalt in the ferromagnetic, antiferromagnetic, and nonmagnetic states, comparing their energies (per atom)*\n",
    "\n",
    "- For AFM, we start by finding the appropriate `starting_magnetization`"
   ]
  },
  {
   "cell_type": "code",
   "execution_count": 43,
   "id": "a6ce8ce3",
   "metadata": {},
   "outputs": [
    {
     "data": {
      "image/png": "[encoded data removed]",
      "text/plain": [
       "<Figure size 800x300 with 3 Axes>"
      ]
     },
     "metadata": {},
     "output_type": "display_data"
    }
   ],
   "source": [
    "start_mag = [\n",
    "    1.0, 0.9, 0.1,\n",
    "    0.08, 0.05, 0.02, \n",
    "    0.03, 0.04\n",
    "]\n",
    " \n",
    "\n",
    "total_mag = [\n",
    "    0.00, 0.00, 0.00,\n",
    "    0.00, 0.00, 0.00,\n",
    "    0.00, 0.00\n",
    "]\n",
    "\n",
    "absolute_mag = [\n",
    "    2.49, 2.49, 2.49,\n",
    "    2.49, 2.49, 0.36,\n",
    "    0.36, 0.35\n",
    "]\n",
    "\n",
    "total_energy = [\n",
    "    -596.93970282, -596.93970282, -596.93970283,\n",
    "    -596.93970282, -596.93970282, -596.93515044,\n",
    "    -596.93515045, -596.93515046\n",
    "]\n",
    "\n",
    "fig, ax = plt.subplots(1, 3, figsize=(8, 3), sharex=True)\n",
    "ax[0].plot(start_mag, total_mag, 'bo')\n",
    "ax[0].set_xlabel('Starting magnetization')\n",
    "ax[0].set_ylabel('Total magnetization')\n",
    "ax[0].set_xlim(0, 0.1)\n",
    "ax[1].plot(start_mag, absolute_mag, 'rx')\n",
    "ax[1].set_xlabel('Starting magnetization')\n",
    "ax[1].set_ylabel('Absolute magnetization')\n",
    "ax[2].plot(start_mag, total_energy, 'g+')\n",
    "ax[2].set_xlabel('Starting magnetization')\n",
    "ax[2].set_ylabel('Total energy [Ry]')\n",
    "plt.tight_layout()\n",
    "plt.show()"
   ]
  },
  {
   "cell_type": "markdown",
   "id": "ff1c8ea7",
   "metadata": {},
   "source": [
    "Then, the stability analysis is conducted."
   ]
  },
  {
   "cell_type": "code",
   "execution_count": 56,
   "id": "97f2faea",
   "metadata": {},
   "outputs": [
    {
     "name": "stdout",
     "output_type": "stream",
     "text": [
      "E_afm_per_atom = -298.4699 Ry\n",
      "E_fm_per_atom = -298.4892 Ry\n",
      "E_nm_per_atom = -298.4676 Ry\n",
      "Delta E (AFM - FM) = 0.0193 Ry\n",
      "Delta E (AFM - NM) = -0.0023 Ry\n",
      "Delta E (FM - NM) = -0.0216 Ry\n",
      "\n",
      "Absolute magnetization AFM = 1.25 Bohr mag / atom\n",
      "Absolute magnetization FM = 1.89 Bohr mag / atom\n",
      "Absolute magnetization NM = 0.00 Bohr mag / atom\n"
     ]
    }
   ],
   "source": [
    "import pandas as pd\n",
    "\n",
    "n_afm = 2\n",
    "n_fm = 2 \n",
    "n_nm = 2 \n",
    "\n",
    "E_afm = -596.93970282 / n_afm\n",
    "E_fm = -596.97834855 / n_fm\n",
    "E_nm = -596.93517216 / n_nm\n",
    " \n",
    "total_mag_afm = 0.00 / n_afm\n",
    "total_mag_fm = 3.43 / n_fm\n",
    "total_mag_nm = 0.00 / n_nm\n",
    "\n",
    "absolute_mag_afm = 2.49 / n_afm\n",
    "absolute_mag_fm = 3.78 / n_fm\n",
    "absolute_mag_nm = 0.00 / n_nm\n",
    "\n",
    "print(f\"E_afm_per_atom = {E_afm:.4f} Ry\")\n",
    "print(f\"E_fm_per_atom = {E_fm:.4f} Ry\")\n",
    "print(f\"E_nm_per_atom = {E_nm:.4f} Ry\")\n",
    "print(f\"Delta E (AFM - FM) = {E_afm - E_fm:.4f} Ry\")\n",
    "print(f\"Delta E (AFM - NM) = {E_afm - E_nm:.4f} Ry\")\n",
    "print(f\"Delta E (FM - NM) = {E_fm - E_nm:.4f} Ry\\n\")\n",
    "\n",
    "print(f\"Absolute magnetization AFM = {absolute_mag_afm:.2f} Bohr mag / atom\")\n",
    "print(f\"Absolute magnetization FM = {absolute_mag_fm:.2f} Bohr mag / atom\")\n",
    "print(f\"Absolute magnetization NM = {absolute_mag_nm:.2f} Bohr mag / atom\")"
   ]
  },
  {
   "cell_type": "markdown",
   "id": "acca9a7b",
   "metadata": {},
   "source": [
    "We observe the following hierarchy: \n",
    "$$\n",
    "E_{\\rm NM} > E_{\\rm AFM} > E_{\\rm FM}\n",
    "$$\n",
    "The energy difference between AFM and NM phases is approximately 10 times  smaller compared to that of AFM-FM and NM-FM. This means that the ferromagnetic phase is the most stable. \n",
    "\n",
    "Regarding magnetic properties, the absolute magnetization shows that both FM and AFM have local magnetic moments. "
   ]
  },
  {
   "cell_type": "markdown",
   "id": "9a89bb84",
   "metadata": {},
   "source": [
    "**Task**: *For the FM and NM states, perform a non-self consistent calculation on a finer grid and compute the density of states. Do you see differences, and can you explain them? Try reverting the HCP FM starting magnetization and see how the DOS is affected. Do the changes make sense? Finally, is the material metallic in the FM, NM states, or both?*"
   ]
  },
  {
   "cell_type": "code",
   "execution_count": 57,
   "id": "1d78ba54",
   "metadata": {},
   "outputs": [],
   "source": [
    "# Ferromagnetic Results"
   ]
  },
  {
   "cell_type": "code",
   "execution_count": 58,
   "id": "d0ce1f8c",
   "metadata": {},
   "outputs": [],
   "source": [
    "# Nonmagnetic Results"
   ]
  },
  {
   "cell_type": "code",
   "execution_count": null,
   "id": "e1a68080",
   "metadata": {},
   "outputs": [],
   "source": []
  }
 ],
 "metadata": {
  "kernelspec": {
   "display_name": "mse468",
   "language": "python",
   "name": "python3"
  },
  "language_info": {
   "codemirror_mode": {
    "name": "ipython",
    "version": 3
   },
   "file_extension": ".py",
   "mimetype": "text/x-python",
   "name": "python",
   "nbconvert_exporter": "python",
   "pygments_lexer": "ipython3",
   "version": "3.10.16"
  }
 },
 "nbformat": 4,
 "nbformat_minor": 5
}
